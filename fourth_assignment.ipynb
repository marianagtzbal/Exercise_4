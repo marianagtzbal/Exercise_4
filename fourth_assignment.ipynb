{
 "cells": [
  {
   "cell_type": "markdown",
   "metadata": {},
   "source": [
    "*This assignment was done by group of ID*"
   ]
  },
  {
   "cell_type": "markdown",
   "metadata": {},
   "source": [
    "<9>"
   ]
  },
  {
   "cell_type": "markdown",
   "metadata": {},
   "source": [
    "<Tuesday>"
   ]
  },
  {
   "cell_type": "markdown",
   "metadata": {},
   "source": [
    "This assignment is based on the Tensor class. Your task is to train the MLP to perform classification on Fashion MNIST dataset. Your task is to perform hyperparameter search to look for the best hyperparameters for this specific task."
   ]
  },
  {
   "cell_type": "markdown",
   "metadata": {},
   "source": [
    "*Important* - Rembmer that you should not use test set to fine-tune your parameters. "
   ]
  },
  {
   "cell_type": "markdown",
   "metadata": {},
   "source": [
    "In this assignment, you should apply both Grid Search and Random Search to illustrate the differences in their results. To ensure a fair comparison, the total number of model evaluations should be equal for both Grid Search and Random Search. \n",
    "Be sure to present your findings for both scenarios: using a simple train-validation split and employing cross-validation.\n",
    "Additionally, you are encouraged to experiment with any other hyperparameter optimization techniques you are familiar with. "
   ]
  },
  {
   "cell_type": "markdown",
   "metadata": {},
   "source": [
    "Try to find the best hyperparameters in space of:\n",
    "\n",
    "(1) Batch Size\n",
    "\n",
    "(2) Learning Rate\n",
    "\n",
    "(3) Number of Epochs\n",
    "\n",
    "(4) Activation Functions (here you need to modify MLP Class)\n",
    "\n",
    "(5) Architectures (Different number of layers, different number of neurons per layer)"
   ]
  },
  {
   "cell_type": "markdown",
   "metadata": {},
   "source": [
    "Imports"
   ]
  },
  {
   "cell_type": "code",
   "execution_count": 1,
   "metadata": {},
   "outputs": [],
   "source": [
    "from itertools import product\n",
    "from typing import List\n",
    "from Tensor import Tensor\n",
    "\n",
    "import matplotlib.pyplot as plt\n",
    "import numpy as np\n",
    "from tqdm import tqdm\n",
    "from sklearn.datasets import fetch_openml\n",
    "from sklearn.model_selection import train_test_split"
   ]
  },
  {
   "cell_type": "markdown",
   "metadata": {},
   "source": [
    "MLP Class - here add possibility for using ReLU as a activation function."
   ]
  },
  {
   "cell_type": "code",
   "execution_count": 2,
   "metadata": {},
   "outputs": [],
   "source": [
    "class MLP:\n",
    "    def __init__(self, n_in: int, n_out: int, hidden_dims: list, activation_func:str):\n",
    "        sizes = [n_in] + hidden_dims + [n_out]\n",
    "        self.layers = []\n",
    "        self.activation_func=activation_func\n",
    "        \n",
    "        for i in range(len(sizes)-1):\n",
    "            layer = Tensor(shape=(sizes[i+1], sizes[i]), label=f'layer {i}')\n",
    "            layer.data = np.random.uniform(low=-0.05, high=0.05, size=(sizes[i+1], sizes[i]))\n",
    "            self.layers.append(layer)\n",
    "\n",
    "    def __call__(self, x):\n",
    "        for idx, layer in enumerate(self.layers): \n",
    "            x = layer @ x\n",
    "            if idx < len(self.layers) - 1:\n",
    "                if self.activation_func==\"relu\":\n",
    "                    x = x.relu()\n",
    "                else: \n",
    "                    x = x.tanh()\n",
    "        return x\n",
    "    \n",
    "    def parameters(self):\n",
    "        return self.layers"
   ]
  },
  {
   "cell_type": "markdown",
   "metadata": {},
   "source": [
    "MNIST_Net class"
   ]
  },
  {
   "cell_type": "code",
   "execution_count": 3,
   "metadata": {},
   "outputs": [],
   "source": [
    "class MNIST_Net:\n",
    "    def __init__(self, hidden_dims=[64],activation_func=\"tanh\"):\n",
    "        self.mlp = MLP(n_in=784, n_out=10, hidden_dims=hidden_dims,activation_func=activation_func)\n",
    "    def __call__(self, x):\n",
    "        return self.mlp(x).softmax()\n",
    "    def parameters(self):\n",
    "        return self.mlp.parameters()\n",
    "    \n",
    "model = MNIST_Net(activation_func=\"tanh\")"
   ]
  },
  {
   "cell_type": "markdown",
   "metadata": {},
   "source": [
    "Validate auxilary function"
   ]
  },
  {
   "cell_type": "code",
   "execution_count": 4,
   "metadata": {},
   "outputs": [],
   "source": [
    "def validate(model, X_set, Y_set):\n",
    "    \"\"\"\n",
    "    Evaluate the accuracy of the model on a given dataset.\n",
    "\n",
    "    This function performs a forward pass on each sample in the dataset,\n",
    "    predicts the class, and compares it to the true class to calculate\n",
    "    the overall accuracy.\n",
    "    \"\"\"\n",
    "    correct_predictions = 0\n",
    "    total_predictions = 0\n",
    "    \n",
    "    for i in range(X_set.shape[0]):\n",
    "        x = X_set[i]\n",
    "        y_true = Y_set[i]\n",
    "        \n",
    "        # Forward pass\n",
    "        y_pred = model(x)\n",
    "        \n",
    "        # Get the predicted class (assuming y_pred is a Tensor with probabilities)\n",
    "        predicted_class = np.argmax(y_pred.data)\n",
    "        \n",
    "        # Check if the prediction is correct\n",
    "        if predicted_class == y_true:\n",
    "            correct_predictions += 1\n",
    "        \n",
    "        total_predictions += 1\n",
    "    \n",
    "    # Calculate accuracy\n",
    "    accuracy = correct_predictions / total_predictions\n",
    "    return accuracy"
   ]
  },
  {
   "cell_type": "markdown",
   "metadata": {},
   "source": [
    "Fashion MNIST Loading"
   ]
  },
  {
   "cell_type": "code",
   "execution_count": 5,
   "metadata": {},
   "outputs": [
    {
     "name": "stdout",
     "output_type": "stream",
     "text": [
      "(60000, 28, 28) (60000,)\n"
     ]
    }
   ],
   "source": [
    "# Load Fashion MNIST\n",
    "fashion_mnist = fetch_openml('Fashion-MNIST', version=1)\n",
    "images, labels = fashion_mnist.data, fashion_mnist.target\n",
    "\n",
    "images = images.values.reshape(-1, 28, 28)\n",
    "labels = labels.values\n",
    "X_train, X_test, y_train, y_test = train_test_split(images, labels, train_size=60000, test_size=10000, stratify=labels, random_state=42)\n",
    "print(X_train.shape, y_train.shape)"
   ]
  },
  {
   "cell_type": "markdown",
   "metadata": {},
   "source": [
    "Let's see how the datapoints look like"
   ]
  },
  {
   "cell_type": "code",
   "execution_count": 6,
   "metadata": {},
   "outputs": [
    {
     "data": {
      "image/png": "[encoded data removed]",
      "text/plain": [
       "<Figure size 1000x1000 with 9 Axes>"
      ]
     },
     "metadata": {},
     "output_type": "display_data"
    }
   ],
   "source": [
    "fig, axs = plt.subplots(3, 3, figsize=(10, 10))\n",
    "for i in range(9):\n",
    "    ax = axs[i//3, i%3]\n",
    "    ax.imshow(X_train[i].reshape(28, 28), cmap='gray')\n",
    "    ax.axis('off')"
   ]
  },
  {
   "cell_type": "code",
   "execution_count": 7,
   "metadata": {},
   "outputs": [],
   "source": [
    "# Normalize the input data:\n",
    "X_train = X_train.astype('float32').reshape(-1, 784)\n",
    "X_test = X_test.astype('float32').reshape(-1, 784)\n",
    "y_train = y_train.astype('int64')\n",
    "y_test = y_test.astype('int64')\n",
    "X_train /= 255.0\n",
    "X_test /= 255.0"
   ]
  },
  {
   "cell_type": "markdown",
   "metadata": {},
   "source": [
    "**TRAIN-VAL-TEST**\n",
    "\n",
    " In this section, we will search for hyperparameters by splitting the data into a training set (50,000 samples) and a validation set (10,000 samples). We will conduct the hyperparameter search using both Grid Search and Random Search methods."
   ]
  },
  {
   "cell_type": "code",
   "execution_count": 8,
   "metadata": {},
   "outputs": [],
   "source": [
    "X_train, X_val, y_train, y_val = train_test_split(X_train, y_train, train_size=50000, test_size=10000, random_state=42)"
   ]
  },
  {
   "cell_type": "markdown",
   "metadata": {},
   "source": [
    "Auxilary function to estimate the model"
   ]
  },
  {
   "cell_type": "code",
   "execution_count": 11,
   "metadata": {},
   "outputs": [],
   "source": [
    "def train_and_evaluate(batch_size:int=32, num_epochs:int=50, lr:float=0.001,\n",
    "                       hidden_dims:List[int]=[64], activation_func:str=\"tanh\",test_evaluation:bool=False):\n",
    "    \"\"\"\n",
    "    Train a neural network model and evaluate its performance on a validation set.\n",
    "\n",
    "    This function trains the `MNIST_Net` model using the given hyperparameters, including\n",
    "    batch size, number of epochs, learning rate, and hidden layer dimensions. It shuffles\n",
    "    the training data at the start of each epoch and performs a forward and backward pass\n",
    "    to update the model weights. The function then evaluates the model on a validation set\n",
    "    and optionally on a test set.\n",
    "    \"\"\"\n",
    "    model = MNIST_Net(hidden_dims,activation_func)\n",
    "    \n",
    "    # Training loop\n",
    "    for epoch in range(num_epochs):\n",
    "        indices = np.arange(X_train.shape[0])\n",
    "        np.random.shuffle(indices)\n",
    "        X_shuffled = X_train[indices]\n",
    "        y_shuffled = y_train[indices]\n",
    "        \n",
    "        for i in range(0, X_shuffled.shape[0], batch_size):\n",
    "            X_batch = X_shuffled[i:i + batch_size]\n",
    "            y_batch = y_shuffled[i:i + batch_size]\n",
    "            \n",
    "            # Convert entire batch to flattened Tensors\n",
    "            X_tensors = [Tensor(data=x.flatten()) for x in X_batch]\n",
    "            preds = [model(x) for x in X_tensors]\n",
    "            \n",
    "            # Compute loss for the batch\n",
    "            mb_loss = sum([ypred.cross_entropy(ytrue) for ytrue, ypred in zip(y_batch, preds)]) / batch_size\n",
    "            \n",
    "            # Zero gradients\n",
    "            for p in model.parameters():\n",
    "                p.grad = np.zeros_like(p.grad)\n",
    "            \n",
    "            # Backward pass\n",
    "            mb_loss.backward()\n",
    "            \n",
    "            # Update weights\n",
    "            for p in model.parameters():\n",
    "                p.data -= lr * p.grad\n",
    "\n",
    "    # Calculate validation accuracy\n",
    "    validation_accuracy = validate(model, X_val, y_val)\n",
    "\n",
    "    # Calculate test set accuracy\n",
    "    if test_evaluation:\n",
    "        test_accuracy = validate(model, X_test, y_test)\n",
    "        return validation_accuracy, test_accuracy\n",
    "    else:\n",
    "        return validation_accuracy"
   ]
  },
  {
   "cell_type": "markdown",
   "metadata": {},
   "source": [
    "Let's see the exemplary trainig..."
   ]
  },
  {
   "cell_type": "code",
   "execution_count": 12,
   "metadata": {},
   "outputs": [
    {
     "name": "stdout",
     "output_type": "stream",
     "text": [
      "Before training: test accuracy: 0.1007\n",
      "Validation accuracy: 0.8204\n"
     ]
    }
   ],
   "source": [
    "model = MNIST_Net(activation_func=\"tanh\")\n",
    "\n",
    "val_acc = validate(model, X_test, y_test)\n",
    "print(f\"Before training: test accuracy: {val_acc}\")\n",
    "\n",
    "# Parameters\n",
    "batch_size = 64\n",
    "num_epochs = 1\n",
    "lr = 0.5\n",
    "\n",
    "val_acc = train_and_evaluate(batch_size, num_epochs, lr)\n",
    "print(f\"Validation accuracy: {val_acc}\")\n"
   ]
  },
  {
   "cell_type": "markdown",
   "metadata": {},
   "source": [
    "*GRID SEARCH*"
   ]
  },
  {
   "cell_type": "code",
   "execution_count": 13,
   "metadata": {},
   "outputs": [],
   "source": [
    "# Add here more possibilities\n",
    "hyperparameter_space = {\n",
    "    'batch_size': [256, 128],\n",
    "    'num_epochs': [10,20,30],\n",
    "    'lr': [0.01, 0.1, 0.001],\n",
    "    'hidden_dims': [[64], [128, 64], [64, 64, 64]],\n",
    "    'activation_func': [\"relu\",\"tanh\"]\n",
    "}\n",
    "\n",
    "\n",
    "all_combinations_grid_search = list(product(\n",
    "    hyperparameter_space['batch_size'],\n",
    "    hyperparameter_space['num_epochs'],\n",
    "    hyperparameter_space['lr'],\n",
    "    hyperparameter_space['hidden_dims'],\n",
    "    hyperparameter_space['activation_func'],\n",
    "))  "
   ]
  },
  {
   "cell_type": "code",
   "execution_count": null,
   "metadata": {},
   "outputs": [
    {
     "name": "stdout",
     "output_type": "stream",
     "text": [
      "Current best configuration (256, 10, 0.01, [64], 'relu'), with the Val-Accuracy: 0.7667\n",
      "Current best configuration (256, 10, 0.1, [64], 'relu'), with the Val-Accuracy: 0.8536\n",
      "Current best configuration (256, 10, 0.1, [64], 'tanh'), with the Val-Accuracy: 0.856\n",
      "Current best configuration (256, 10, 0.1, [128, 64], 'relu'), with the Val-Accuracy: 0.8572\n",
      "Current best configuration (256, 20, 0.1, [64], 'relu'), with the Val-Accuracy: 0.8717\n",
      "Current best configuration (256, 20, 0.1, [64], 'tanh'), with the Val-Accuracy: 0.8725\n",
      "Current best configuration (256, 20, 0.1, [64, 64, 64], 'relu'), with the Val-Accuracy: 0.8729\n"
     ]
    }
   ],
   "source": [
    "best_accuracy = 0\n",
    "for batch_size, num_epochs, lr, hidden_size,activation_func in all_combinations_grid_search:\n",
    "    accuracy = train_and_evaluate(batch_size, num_epochs, lr, hidden_size,activation_func)    \n",
    "    if accuracy > best_accuracy:\n",
    "        best_accuracy = accuracy\n",
    "        best_hyperparameters = (batch_size, num_epochs, lr, hidden_size,activation_func)\n",
    "        print(f\"Current best configuration {best_hyperparameters}, with the Val-Accuracy: {best_accuracy}\")"
   ]
  },
  {
   "cell_type": "markdown",
   "metadata": {},
   "source": [
    "After finding the best hyperparameters we evaluate them on test set"
   ]
  },
  {
   "cell_type": "code",
   "execution_count": null,
   "metadata": {},
   "outputs": [],
   "source": [
    "best_batch_size, best_num_epochs, best_lr, best_hidden_size,activation_func = best_hyperparameters\n",
    "grid_search_train_val_validation, grid_search_train_val_test = train_and_evaluate(best_batch_size, best_num_epochs, best_lr, best_hidden_size, activation_func,True)\n",
    "print(f\"Final Validation Accuracy: {round(grid_search_train_val_validation, 3)}\")\n",
    "print(f\"Final Test Accuracy: {round(grid_search_train_val_test, 3)}\")"
   ]
  },
  {
   "cell_type": "markdown",
   "metadata": {},
   "source": [
    "**TRAIN VAL TEST - Random Search**"
   ]
  },
  {
   "cell_type": "code",
   "execution_count": null,
   "metadata": {},
   "outputs": [],
   "source": [
    "\n",
    "import random\n",
    "# Expand the hyperparameter space with additional options if needed.\n",
    "# Implement a similar approach for random search, where hyperparameters are sampled randomly.\n",
    "# Note: The hyperparameter space for random search can be larger compared to grid search, \n",
    "# as you are not limited to predefined discrete values.\n",
    "# However, to ensure a fair comparison between grid search and random search,\n",
    "# make sure to evaluate the model the same number of times in both methods.\n",
    "\n",
    "\n",
    "\n",
    "hyperparameter_space_random_search = {\n",
    "    'batch_size': [256, 128],\n",
    "    'num_epochs': [10,20,30],\n",
    "    'lr': [0.01, 0.1, 0.001],\n",
    "    'hidden_dims': [[64], [128, 64], [64, 64, 64]],\n",
    "    'activation_func': [\"relu\",\"tanh\"]\n",
    "}\n",
    "\n",
    "def sample(hsrsearch):\n",
    "    batch_size= random.choice(hsrsearch[\"batch_size\"])\n",
    "    num_epochs=random.choice(hsrsearch[\"num_epochs\"])\n",
    "    lr=random.choice(hsrsearch[\"lr\"])\n",
    "    hidden_dims=random.choice(hsrsearch[\"hidden_dims\"])\n",
    "    activation_func=random.choice(hsrsearch[\"activation_func\"])\n",
    "    \n",
    "    return batch_size, num_epochs,lr,hidden_dims,activation_func\n",
    "\n",
    "\n",
    "best_accuracy = 0\n",
    "for _ in range(len(all_combinations_grid_search)):\n",
    "    sampled_hyperparameters = sample(hyperparameter_space_random_search)\n",
    "    batch_size, num_epochs, lr, hidden_size, activation_func= sampled_hyperparameters\n",
    "    accuracy = train_and_evaluate(batch_size, num_epochs, lr, hidden_size ,activation_func)    \n",
    "    if accuracy > best_accuracy:\n",
    "        best_accuracy = accuracy\n",
    "        best_hyperparameters = (batch_size, num_epochs, lr, hidden_size,activation_func) "
   ]
  },
  {
   "cell_type": "markdown",
   "metadata": {},
   "source": [
    "After finding the best hyperparameters with random search we evalute them"
   ]
  },
  {
   "cell_type": "code",
   "execution_count": null,
   "metadata": {},
   "outputs": [],
   "source": [
    "best_batch_size, best_num_epochs, best_lr, best_hidden_size = best_hyperparameters\n",
    "random_search_train_val_validation, random_search_train_val_test = train_and_evaluate(best_batch_size, best_num_epochs, best_lr, best_hidden_size, True)\n",
    "print(f\"Final Validation Accuracy: {round(grid_search_train_val_validation, 3)}\")\n",
    "print(f\"Final Test Accuracy: {round(random_search_train_val_test, 3)}\")"
   ]
  },
  {
   "cell_type": "markdown",
   "metadata": {},
   "source": [
    "**Cross-Validation**\n",
    "\n",
    "In this section, we will perform hyperparameter tuning using cross-validation. We will explore both Grid Search and Random Search methods. To ensure a fair comparison, make sure to evaluate your model the same number of times as in previous searches. Keep in mind that cross-validation involves training and evaluating the model multiple times for each set of hyperparameters, which provides a more robust estimate of model performance."
   ]
  },
  {
   "cell_type": "markdown",
   "metadata": {},
   "source": [
    "Let's load data once more"
   ]
  },
  {
   "cell_type": "code",
   "execution_count": null,
   "metadata": {},
   "outputs": [],
   "source": [
    "X_train, X_test, y_train, y_test = train_test_split(images, labels, train_size=60000, test_size=10000, stratify=labels, random_state=42)"
   ]
  },
  {
   "cell_type": "markdown",
   "metadata": {},
   "source": [
    "Auxilary function for model estimation with cross validation"
   ]
  },
  {
   "cell_type": "code",
   "execution_count": null,
   "metadata": {},
   "outputs": [],
   "source": [
    "# Complete this function. \n",
    "\n",
    "def split_data_into_folds(folds):\n",
    "    kf=[]\n",
    "    partitions={}\n",
    "    size = len(X_train)\n",
    "    start_idx=0\n",
    "    for fold in range(folds):\n",
    "        partitions[fold]=range(int(start_idx),int(start_idx+size/folds))\n",
    "        start_idx+=size/folds\n",
    "\n",
    "    val_idx=[]\n",
    "    train_idx=[]\n",
    "    for fold in range(folds):\n",
    "        val_idx= partitions[fold]\n",
    "        train_idx= np.setdiff1d(range(size), val_idx) \n",
    "        kf.append([train_idx,val_idx])\n",
    "        val_idx=[]\n",
    "        train_idx=[]\n",
    "\n",
    "    return kf\n",
    "\n",
    "def train_and_evaluate_cv(batch_size: int = 32, num_epochs: int = 50, lr: float = 0.001,\n",
    "                       hidden_dims: List[int] = [64], folds: int = 5, activation_func:str=\"tanh\",test_evaluation: bool = False):\n",
    "    \n",
    "    # Initialize K-Fold cross-validation\n",
    "    validation_accuracies = []\n",
    "    \n",
    "    kf = split_data_into_folds(folds) # funciton that generates indicies of belonging to specific fold\n",
    "   \n",
    "    # Cross-validation loop\n",
    "    for train_index, val_index in kf:\n",
    "        X_fold_train, X_fold_val = X_train[train_index], X_train[val_index]\n",
    "        y_fold_train, y_fold_val = y_train[train_index], y_train[val_index]\n",
    "        \n",
    "        # Initialize the model for each fold\n",
    "        model = MNIST_Net(hidden_dims,activation_func)\n",
    "        \n",
    "        # Training loop\n",
    "        for epoch in range(num_epochs):\n",
    "            indices = np.arange(X_fold_train.shape[0])\n",
    "            np.random.shuffle(indices)\n",
    "            X_shuffled = X_fold_train[indices]\n",
    "            y_shuffled = y_fold_train[indices]\n",
    "            \n",
    "            for i in range(0, X_shuffled.shape[0], batch_size):\n",
    "                X_batch = X_shuffled[i:i + batch_size]\n",
    "                y_batch = y_shuffled[i:i + batch_size]\n",
    "                \n",
    "                # Convert entire batch to flattened Tensors\n",
    "                X_tensors = [Tensor(data=x.flatten()) for x in X_batch]\n",
    "                preds = [model(x) for x in X_tensors]\n",
    "                \n",
    "                # Compute loss for the batch\n",
    "                mb_loss = sum([ypred.cross_entropy(ytrue) for ytrue, ypred in zip(y_batch, preds)]) / batch_size\n",
    "                \n",
    "                # Zero gradients\n",
    "                for p in model.parameters():\n",
    "                    p.grad = np.zeros_like(p.grad)\n",
    "                \n",
    "                # Backward pass\n",
    "                mb_loss.backward()\n",
    "                \n",
    "                # Update weights\n",
    "                for p in model.parameters():\n",
    "                    p.data -= lr * p.grad\n",
    "        \n",
    "        # Calculate validation accuracy for this fold\n",
    "        validation_accuracy = validate(model, X_fold_val, y_fold_val)\n",
    "        validation_accuracies.append(validation_accuracy)\n",
    "    \n",
    "    # Compute the average validation accuracy across all folds\n",
    "    avg_validation_accuracy = np.mean(validation_accuracies)\n",
    "\n",
    "    # Calculate test set accuracy if required\n",
    "    if test_evaluation:\n",
    "        test_accuracy = validate(model, X_test, y_test)\n",
    "        return avg_validation_accuracy, test_accuracy\n",
    "    else:\n",
    "        return avg_validation_accuracy"
   ]
  },
  {
   "cell_type": "markdown",
   "metadata": {},
   "source": [
    "Grid Search"
   ]
  },
  {
   "cell_type": "code",
   "execution_count": null,
   "metadata": {},
   "outputs": [],
   "source": [
    "# Define the hyperparameter search space. Note: it should be smaller than the one used in the train-val-test example.\n",
    "# To ensure a fair comparison, each technique should evaluate the exact same number of models.\n",
    "hyperparameter_space = {\n",
    "    'batch_size': [128,64],\n",
    "    'num_epochs': [10,30],\n",
    "    'lr': [0.01,0.001],\n",
    "    'hidden_dims': [[64],[64,128]],\n",
    "    'activation_func':['relu','tanh']\n",
    "}\n",
    "\n",
    "all_combinations_grid_search_cv = list(product(\n",
    "    hyperparameter_space['batch_size'],\n",
    "    hyperparameter_space['num_epochs'],\n",
    "    hyperparameter_space['lr'],\n",
    "    hyperparameter_space['hidden_dims'],\n",
    "    hyperparameter_space['']\n",
    "))\n",
    "\n",
    "best_accuracy = 0\n",
    "folds = 5\n",
    "for batch_size, num_epochs, lr, hidden_size in all_combinations_grid_search_cv:\n",
    "    accuracy = train_and_evaluate_cv(batch_size, num_epochs, lr, hidden_size,folds)    \n",
    "    if accuracy > best_accuracy:\n",
    "        best_accuracy = accuracy\n",
    "        best_hyperparameters = (batch_size, num_epochs, lr, hidden_size)"
   ]
  },
  {
   "cell_type": "markdown",
   "metadata": {},
   "source": [
    "After identifying the optimal hyperparameters through a grid search with cross-validation, we evaluate their performance on the test set"
   ]
  },
  {
   "cell_type": "code",
   "execution_count": null,
   "metadata": {},
   "outputs": [],
   "source": [
    "best_batch_size, best_num_epochs, best_lr, best_hidden_size = best_hyperparameters\n",
    "grid_search_cv_validation, grid_search_cv_test = estimate_model_and_evaluate(best_hyperparameters, test_evaluation=True)\n",
    "print(f\"Final Validation Accuracy: {round(grid_search_cv_validation, 3)}\")\n",
    "print(f\"Final Test Accuracy: {round(grid_search_cv_test, 3)}\")"
   ]
  },
  {
   "cell_type": "markdown",
   "metadata": {},
   "source": [
    "Random Search"
   ]
  },
  {
   "cell_type": "code",
   "execution_count": null,
   "metadata": {},
   "outputs": [],
   "source": [
    "# Hyperparameter search space. Remember that it should be smaller than one used in the train-val-test example. \n",
    "# For a fair comparison we should estimate by each technique exactly the same number of models. \n",
    "hyperparameter_space_random_search = {\n",
    "    'batch_size': [128,64],\n",
    "    'num_epochs': [10,30],\n",
    "    'lr': [0.01,0.001],\n",
    "    'hidden_dims': [[64],[64,128]],\n",
    "    'activation_func':['relu','tanh']\n",
    "}\n",
    "\n",
    "best_accuracy = 0\n",
    "for _ in range(len(all_combinations_grid_search)):\n",
    "    sampled_hyperparameters = sample(hyperparameter_space_random_search)\n",
    "    batch_size, num_epochs, lr, hidden_size = sampled_hyperparameters\n",
    "    accuracy = train_and_evaluate_cv(batch_size, num_epochs, lr, hidden_size)    \n",
    "    if accuracy > best_accuracy:\n",
    "        best_accuracy = accuracy\n",
    "        best_hyperparameters = (batch_size, num_epochs, lr, hidden_size)"
   ]
  },
  {
   "cell_type": "markdown",
   "metadata": {},
   "source": [
    "After identifying the optimal hyperparameters through a random search with cross-validation, we evaluate their performance on the test set."
   ]
  },
  {
   "cell_type": "code",
   "execution_count": null,
   "metadata": {},
   "outputs": [],
   "source": [
    "best_batch_size, best_num_epochs, best_lr, best_hidden_size = best_hyperparameters\n",
    "random_search_cv_validation, random_search_cv_test = estimate_model_and_evaluate(best_hyperparameters, test_evaluation=True)\n",
    "print(f\"Final Validation Accuracy: {round(random_search_cv_validation, 3)}\")\n",
    "print(f\"Final Test Accuracy: {round(random_search_cv_test, 3)}\")"
   ]
  },
  {
   "cell_type": "markdown",
   "metadata": {},
   "source": [
    "Another hyperparameter optimization technique (Optional)"
   ]
  },
  {
   "cell_type": "code",
   "execution_count": null,
   "metadata": {},
   "outputs": [],
   "source": [
    "# maybe later\n",
    "optional_test = 0.89\n",
    "print(f\"Final Test Accuracy: {round(optional_test, 3)}\")"
   ]
  },
  {
   "cell_type": "markdown",
   "metadata": {},
   "source": [
    "Summary of all our results:"
   ]
  },
  {
   "cell_type": "code",
   "execution_count": null,
   "metadata": {},
   "outputs": [],
   "source": [
    "grid_search_train_val_test = 0.15\n",
    "random_search_train_val_test = 0.25\n",
    "grid_search_cv_test = 0.35\n",
    "random_search_cv_test = 0.45\n",
    "optional_test = 0.4\n",
    "\n",
    "\n",
    "# Data for the bar plot\n",
    "labels = ['Grid Search (Train+Val)', 'Random Search (Train+Val)', \n",
    "          'Grid Search (CV Test)', 'Random Search (CV Test)', 'Optional Test']\n",
    "values = [\n",
    "        grid_search_train_val_test,\n",
    "          random_search_train_val_test,\n",
    "          grid_search_cv_test,\n",
    "          random_search_cv_test,\n",
    "          optional_test\n",
    "          ]\n",
    "\n",
    "# Create the bar plot\n",
    "plt.figure(figsize=(10, 6))\n",
    "plt.bar(labels, values, color='skyblue')\n",
    "plt.xlabel('Search Methods and Test Types', fontsize=12)\n",
    "plt.ylabel('Accuracy', fontsize=12)\n",
    "plt.title('Comparison of Search Methods and Test Accuracies', fontsize=14)\n",
    "plt.xticks(rotation=30, ha='right', fontsize=10)\n",
    "plt.tight_layout()\n",
    "plt.show()\n"
   ]
  }
 ],
 "metadata": {
  "kernelspec": {
   "display_name": "deep_learning_updated",
   "language": "python",
   "name": "python3"
  },
  "language_info": {
   "codemirror_mode": {
    "name": "ipython",
    "version": 3
   },
   "file_extension": ".py",
   "mimetype": "text/x-python",
   "name": "python",
   "nbconvert_exporter": "python",
   "pygments_lexer": "ipython3",
   "version": "3.13.0"
  }
 },
 "nbformat": 4,
 "nbformat_minor": 2
}
